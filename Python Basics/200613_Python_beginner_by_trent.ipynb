{
  "nbformat": 4,
  "nbformat_minor": 0,
  "metadata": {
    "colab": {
      "name": "200613 Python beginner by trent.ipynb",
      "provenance": []
    },
    "kernelspec": {
      "name": "python3",
      "display_name": "Python 3"
    }
  },
  "cells": [
    {
      "cell_type": "code",
      "metadata": {
        "id": "NMzB8IuCqMyW",
        "colab_type": "code",
        "colab": {
          "base_uri": "https://localhost:8080/",
          "height": 187
        },
        "outputId": "2afa933f-e78a-46ac-9454-9d60e976c744"
      },
      "source": [
        "x = 0\n",
        "while x < 10:\n",
        "  print(x)\n",
        "  x=x+1"
      ],
      "execution_count": null,
      "outputs": [
        {
          "output_type": "stream",
          "text": [
            "0\n",
            "1\n",
            "2\n",
            "3\n",
            "4\n",
            "5\n",
            "6\n",
            "7\n",
            "8\n",
            "9\n"
          ],
          "name": "stdout"
        }
      ]
    },
    {
      "cell_type": "markdown",
      "metadata": {
        "id": "38Cb3cuBsgRC",
        "colab_type": "text"
      },
      "source": [
        "Loop that starts by printing 20 all the way to 25"
      ]
    },
    {
      "cell_type": "code",
      "metadata": {
        "id": "AWNVCgMzql5e",
        "colab_type": "code",
        "colab": {
          "base_uri": "https://localhost:8080/",
          "height": 119
        },
        "outputId": "749c8214-277e-42b1-cd67-66263c2c1524"
      },
      "source": [
        "x = 20\n",
        "while x < 26:\n",
        "  print(x)\n",
        "  x=x+1"
      ],
      "execution_count": null,
      "outputs": [
        {
          "output_type": "stream",
          "text": [
            "20\n",
            "21\n",
            "22\n",
            "23\n",
            "24\n",
            "25\n"
          ],
          "name": "stdout"
        }
      ]
    },
    {
      "cell_type": "code",
      "metadata": {
        "id": "We6ddZVdsmYr",
        "colab_type": "code",
        "colab": {}
      },
      "source": [
        "x = int(input(\"Please enter a positive number\"))\n",
        "while x < 0:\n",
        "  x = int(input(\"Please enter a positive number\"))\n",
        "  print(\"You have entered a positive number\")\n"
      ],
      "execution_count": null,
      "outputs": []
    },
    {
      "cell_type": "markdown",
      "metadata": {
        "id": "Kc75fj03uKb1",
        "colab_type": "text"
      },
      "source": [
        "Enter 3 digit positive number, keep asking until the user gives 3 digit positive number"
      ]
    },
    {
      "cell_type": "code",
      "metadata": {
        "id": "SSioH-hatURX",
        "colab_type": "code",
        "colab": {}
      },
      "source": [
        "x = int(input(\"Please enter a 3-digit number: \"))\n",
        "while x <100 or x >999:\n",
        "  x = int(input(\"Please enter a 3-digit number: \"))\n",
        "  print(\"You have entered a 3 digit number\")"
      ],
      "execution_count": null,
      "outputs": []
    },
    {
      "cell_type": "markdown",
      "metadata": {
        "id": "n9xUjMPXvTNT",
        "colab_type": "text"
      },
      "source": [
        "For Loop"
      ]
    },
    {
      "cell_type": "code",
      "metadata": {
        "id": "kWSYwf6nvVES",
        "colab_type": "code",
        "colab": {
          "base_uri": "https://localhost:8080/",
          "height": 187
        },
        "outputId": "60018ed6-a5af-46c2-8fb1-9537ffa4d7e2"
      },
      "source": [
        "for x in range (0,10):\n",
        "  print (x)"
      ],
      "execution_count": null,
      "outputs": [
        {
          "output_type": "stream",
          "text": [
            "0\n",
            "1\n",
            "2\n",
            "3\n",
            "4\n",
            "5\n",
            "6\n",
            "7\n",
            "8\n",
            "9\n"
          ],
          "name": "stdout"
        }
      ]
    },
    {
      "cell_type": "code",
      "metadata": {
        "id": "09IrgEhgvpp9",
        "colab_type": "code",
        "colab": {
          "base_uri": "https://localhost:8080/",
          "height": 102
        },
        "outputId": "9f175660-b4d5-41f6-a4e0-df66e3f6e321"
      },
      "source": [
        "for x in range (0, 10, 2):\n",
        "  print(x)"
      ],
      "execution_count": null,
      "outputs": [
        {
          "output_type": "stream",
          "text": [
            "0\n",
            "2\n",
            "4\n",
            "6\n",
            "8\n"
          ],
          "name": "stdout"
        }
      ]
    },
    {
      "cell_type": "code",
      "metadata": {
        "id": "YayFywbqvtMs",
        "colab_type": "code",
        "colab": {
          "base_uri": "https://localhost:8080/",
          "height": 102
        },
        "outputId": "9bfe815b-bf99-4617-cfd0-54ece5a27e60"
      },
      "source": [
        "for x in range(5,15,2):\n",
        "  print(x)"
      ],
      "execution_count": null,
      "outputs": [
        {
          "output_type": "stream",
          "text": [
            "5\n",
            "7\n",
            "9\n",
            "11\n",
            "13\n"
          ],
          "name": "stdout"
        }
      ]
    },
    {
      "cell_type": "markdown",
      "metadata": {
        "id": "ETuncO2Cw0Ct",
        "colab_type": "text"
      },
      "source": [
        "Exercise"
      ]
    },
    {
      "cell_type": "code",
      "metadata": {
        "id": "xBn7oXPQv9WL",
        "colab_type": "code",
        "colab": {
          "base_uri": "https://localhost:8080/",
          "height": 136
        },
        "outputId": "9b2c51e7-e212-4d61-8a95-28a6e7500353"
      },
      "source": [
        "for x in range(20,-5,-4):\n",
        "  print(x)"
      ],
      "execution_count": null,
      "outputs": [
        {
          "output_type": "stream",
          "text": [
            "20\n",
            "16\n",
            "12\n",
            "8\n",
            "4\n",
            "0\n",
            "-4\n"
          ],
          "name": "stdout"
        }
      ]
    },
    {
      "cell_type": "code",
      "metadata": {
        "id": "Jj8flutiw1qU",
        "colab_type": "code",
        "colab": {}
      },
      "source": [
        "x = int(input(\"Enter a positive number: \"))\n",
        "while True:\n",
        "  if x > 0:\n",
        "    break\n",
        "  x = int(input(\"Enter a positive number: \"))\n",
        "  print(\"You have entered a positive number\")"
      ],
      "execution_count": null,
      "outputs": []
    },
    {
      "cell_type": "markdown",
      "metadata": {
        "id": "YVR8IXbXyh_e",
        "colab_type": "text"
      },
      "source": [
        "Ask user for 2 positive numbers"
      ]
    },
    {
      "cell_type": "code",
      "metadata": {
        "id": "gt_hWsLuyRHl",
        "colab_type": "code",
        "colab": {
          "base_uri": "https://localhost:8080/",
          "height": 68
        },
        "outputId": "079c4418-37c7-4c7f-b972-86b42ef5295d"
      },
      "source": [
        "x = 0\n",
        "y = 0\n",
        "while x <=0 or y <= 0:\n",
        "  x = int(input(\"Enter the first positive number: \"))\n",
        "  if x <0:\n",
        "    continue\n",
        "  y=int(input(\"Enter the second positive number: \"))\n",
        "print(\"You have entered two positive numbers\")"
      ],
      "execution_count": null,
      "outputs": [
        {
          "output_type": "stream",
          "text": [
            "Enter the first positive number: 1\n",
            "Enter the second positive number: 1\n",
            "You have entered two positive numbers\n"
          ],
          "name": "stdout"
        }
      ]
    },
    {
      "cell_type": "markdown",
      "metadata": {
        "id": "hQVgZWW5zftu",
        "colab_type": "text"
      },
      "source": [
        "Nested Loop"
      ]
    },
    {
      "cell_type": "code",
      "metadata": {
        "id": "rafobI6rzhZq",
        "colab_type": "code",
        "colab": {
          "base_uri": "https://localhost:8080/",
          "height": 170
        },
        "outputId": "156c6994-6f6a-4527-ab4b-3c6971659176"
      },
      "source": [
        "i = 0\n",
        "while i < 3:\n",
        "  i = i + 1\n",
        "  j = 0\n",
        "  while j < 3:\n",
        "    print(\"Count: \",i,j)\n",
        "    j=j+1"
      ],
      "execution_count": null,
      "outputs": [
        {
          "output_type": "stream",
          "text": [
            "Count:  1 0\n",
            "Count:  1 1\n",
            "Count:  1 2\n",
            "Count:  2 0\n",
            "Count:  2 1\n",
            "Count:  2 2\n",
            "Count:  3 0\n",
            "Count:  3 1\n",
            "Count:  3 2\n"
          ],
          "name": "stdout"
        }
      ]
    },
    {
      "cell_type": "markdown",
      "metadata": {
        "id": "-tYUYJlN4_KO",
        "colab_type": "text"
      },
      "source": [
        "Infinite Loops"
      ]
    },
    {
      "cell_type": "code",
      "metadata": {
        "id": "R26Bmyi24-pD",
        "colab_type": "code",
        "colab": {}
      },
      "source": [
        "count = 0\n",
        "while count <5:\n",
        "  print(\"Count: \",count)"
      ],
      "execution_count": null,
      "outputs": []
    },
    {
      "cell_type": "markdown",
      "metadata": {
        "id": "HwVpw-2J5cV6",
        "colab_type": "text"
      },
      "source": [
        "Exercise:\n",
        "1. Print -10 to -1 using loop\n",
        "2. Ask the user for 2 numbers between 1 to 100, print the sum between them (e.g number: 1,5. 1+2+3+4+5 print total (sum)\n",
        "3. Print the following pattern 1 12 123 1234 12345"
      ]
    },
    {
      "cell_type": "code",
      "metadata": {
        "id": "-c6uA6H85sq8",
        "colab_type": "code",
        "colab": {
          "base_uri": "https://localhost:8080/",
          "height": 187
        },
        "outputId": "8dcc0938-2424-48d5-8338-cfc1a66ccfac"
      },
      "source": [
        "for x in range(-10,0):\n",
        "  print(x)"
      ],
      "execution_count": null,
      "outputs": [
        {
          "output_type": "stream",
          "text": [
            "-10\n",
            "-9\n",
            "-8\n",
            "-7\n",
            "-6\n",
            "-5\n",
            "-4\n",
            "-3\n",
            "-2\n",
            "-1\n"
          ],
          "name": "stdout"
        }
      ]
    },
    {
      "cell_type": "code",
      "metadata": {
        "id": "vv_yhUdY56D-",
        "colab_type": "code",
        "colab": {}
      },
      "source": [
        "first=int(input(\"Please enter 1st number: \"))\n",
        "second=int(input(\"Please enter 2nd number: \"))\n",
        "total=0\n",
        "for x in range (first,second + 1):\n",
        "  total=total+x\n",
        "print(total)"
      ],
      "execution_count": null,
      "outputs": []
    },
    {
      "cell_type": "code",
      "metadata": {
        "id": "yrcZcgPv9m_a",
        "colab_type": "code",
        "colab": {}
      },
      "source": [
        "first=int(input(\"Please enter 1st number: \"))\n",
        "second=int(input(\"Please enter 2nd number: \"))\n",
        "print(sum(range(first,second+1)))"
      ],
      "execution_count": null,
      "outputs": []
    },
    {
      "cell_type": "code",
      "metadata": {
        "id": "ngemsGiR-LjK",
        "colab_type": "code",
        "colab": {
          "base_uri": "https://localhost:8080/",
          "height": 102
        },
        "outputId": "68d48992-3f8e-453a-dcfd-47062805aea4"
      },
      "source": [
        "last=6\n",
        "for row in range (1, last):\n",
        "  for column in range (1,row+1):\n",
        "    print(column,end='')\n",
        "  print('')"
      ],
      "execution_count": null,
      "outputs": [
        {
          "output_type": "stream",
          "text": [
            "1\n",
            "12\n",
            "123\n",
            "1234\n",
            "12345\n"
          ],
          "name": "stdout"
        }
      ]
    }
  ]
}