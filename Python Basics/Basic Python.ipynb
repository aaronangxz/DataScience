{
  "nbformat": 4,
  "nbformat_minor": 0,
  "metadata": {
    "colab": {
      "name": "python_basics.ipynb",
      "provenance": []
    },
    "kernelspec": {
      "name": "python3",
      "display_name": "Python 3"
    }
  },
  "cells": [
    {
      "cell_type": "markdown",
      "metadata": {
        "id": "8rH3H1h6l54f",
        "colab_type": "text"
      },
      "source": [
        "variable\n",
        "\n",
        "datatype\n",
        "  - number\n",
        "    - int\n",
        "    - float\n",
        "  - string\n",
        "  - list\n",
        "  - dictionary\n",
        "\n",
        "expression & condition\n",
        "\n",
        "loop\n",
        "  - for\n",
        "  - while\n",
        "\n",
        "function\n",
        "\n",
        "class & object\n",
        "\n",
        "library"
      ]
    },
    {
      "cell_type": "markdown",
      "metadata": {
        "id": "11Igdmb1mJOK",
        "colab_type": "text"
      },
      "source": [
        "# variable"
      ]
    },
    {
      "cell_type": "code",
      "metadata": {
        "id": "54lYRlPUl3EA",
        "colab_type": "code",
        "colab": {
          "base_uri": "https://localhost:8080/",
          "height": 34
        },
        "outputId": "afe3fa93-3f6d-473a-ff15-b6d496a48621"
      },
      "source": [
        "a = 1\n",
        "b = 2\n",
        "c = a + b\n",
        "c"
      ],
      "execution_count": null,
      "outputs": [
        {
          "output_type": "execute_result",
          "data": {
            "text/plain": [
              "3"
            ]
          },
          "metadata": {
            "tags": []
          },
          "execution_count": 1
        }
      ]
    },
    {
      "cell_type": "code",
      "metadata": {
        "id": "jHmubc0MmcF7",
        "colab_type": "code",
        "colab": {
          "base_uri": "https://localhost:8080/",
          "height": 35
        },
        "outputId": "e3d2fbca-6719-4237-c8ea-92a8df5cc5b7"
      },
      "source": [
        "a = 'hi, '\n",
        "b = 'how are you?'\n",
        "c = a + b\n",
        "c"
      ],
      "execution_count": null,
      "outputs": [
        {
          "output_type": "execute_result",
          "data": {
            "application/vnd.google.colaboratory.intrinsic": {
              "type": "string"
            },
            "text/plain": [
              "'hi, how are you?'"
            ]
          },
          "metadata": {
            "tags": []
          },
          "execution_count": 3
        }
      ]
    },
    {
      "cell_type": "code",
      "metadata": {
        "id": "DiIxrLdKmu0y",
        "colab_type": "code",
        "colab": {
          "base_uri": "https://localhost:8080/",
          "height": 35
        },
        "outputId": "34b37676-1d3c-4b19-ca56-a05c2b7edc1b"
      },
      "source": [
        "name = 'Winn'\n",
        "money = '10 USD'\n",
        "sentence = name + ' has ' + money + '.'\n",
        "sentence"
      ],
      "execution_count": null,
      "outputs": [
        {
          "output_type": "execute_result",
          "data": {
            "application/vnd.google.colaboratory.intrinsic": {
              "type": "string"
            },
            "text/plain": [
              "'Winn has 10 USD.'"
            ]
          },
          "metadata": {
            "tags": []
          },
          "execution_count": 4
        }
      ]
    },
    {
      "cell_type": "markdown",
      "metadata": {
        "id": "_Pr5kQl1r66V",
        "colab_type": "text"
      },
      "source": [
        "\n",
        "\n",
        "---\n",
        "\n"
      ]
    },
    {
      "cell_type": "markdown",
      "metadata": {
        "id": "l5fGaL8snC_-",
        "colab_type": "text"
      },
      "source": [
        "# Data types"
      ]
    },
    {
      "cell_type": "markdown",
      "metadata": {
        "id": "V7_Oc4phnPZM",
        "colab_type": "text"
      },
      "source": [
        "**Number**"
      ]
    },
    {
      "cell_type": "code",
      "metadata": {
        "id": "VfpYi40cnJgR",
        "colab_type": "code",
        "colab": {
          "base_uri": "https://localhost:8080/",
          "height": 51
        },
        "outputId": "e89f4c82-23b7-40bf-d982-bb8d8b7109dc"
      },
      "source": [
        "a = 4 #a is a variable containing 1 which is an int datatype\n",
        "b = 2.0 #b is a variable containing 1.2 which is a float datatype\n",
        "print(a) #print is a function to display the variables\n",
        "print(b)"
      ],
      "execution_count": null,
      "outputs": [
        {
          "output_type": "stream",
          "text": [
            "4\n",
            "2.0\n"
          ],
          "name": "stdout"
        }
      ]
    },
    {
      "cell_type": "markdown",
      "metadata": {
        "id": "1D3jrr9qn6Em",
        "colab_type": "text"
      },
      "source": [
        "Number operations"
      ]
    },
    {
      "cell_type": "code",
      "metadata": {
        "id": "BrGSbnArn9TB",
        "colab_type": "code",
        "colab": {
          "base_uri": "https://localhost:8080/",
          "height": 102
        },
        "outputId": "93e46bf0-91c0-44d3-96fc-892429aa1af2"
      },
      "source": [
        "print(a+b)\n",
        "print(a*b)\n",
        "print(a/b)\n",
        "print(a**b)\n",
        "print(a**(1/b))"
      ],
      "execution_count": null,
      "outputs": [
        {
          "output_type": "stream",
          "text": [
            "6.0\n",
            "8.0\n",
            "2.0\n",
            "16.0\n",
            "2.0\n"
          ],
          "name": "stdout"
        }
      ]
    },
    {
      "cell_type": "markdown",
      "metadata": {
        "id": "CvM8Am7Zn0eQ",
        "colab_type": "text"
      },
      "source": [
        "**String**"
      ]
    },
    {
      "cell_type": "code",
      "metadata": {
        "id": "DWMjRK7EnyIm",
        "colab_type": "code",
        "colab": {
          "base_uri": "https://localhost:8080/",
          "height": 35
        },
        "outputId": "bd78eaed-e6a5-456f-d7d9-2567b5cc8b9c"
      },
      "source": [
        "myname = 'Winn'\n",
        "money = '10 USD'\n"
      ],
      "execution_count": null,
      "outputs": [
        {
          "output_type": "execute_result",
          "data": {
            "application/vnd.google.colaboratory.intrinsic": {
              "type": "string"
            },
            "text/plain": [
              "'Winn has 10 USD'"
            ]
          },
          "metadata": {
            "tags": []
          },
          "execution_count": 10
        }
      ]
    },
    {
      "cell_type": "markdown",
      "metadata": {
        "id": "OmbVVjq2piJG",
        "colab_type": "text"
      },
      "source": [
        "String operation"
      ]
    },
    {
      "cell_type": "code",
      "metadata": {
        "id": "hTrB98buovNG",
        "colab_type": "code",
        "colab": {
          "base_uri": "https://localhost:8080/",
          "height": 34
        },
        "outputId": "cbd12e03-c4bb-481a-a2fc-5776467a573d"
      },
      "source": [
        "print(name + ' has ' + money) #add to concat strings"
      ],
      "execution_count": null,
      "outputs": [
        {
          "output_type": "stream",
          "text": [
            "Winn has 10 USD\n"
          ],
          "name": "stdout"
        }
      ]
    },
    {
      "cell_type": "code",
      "metadata": {
        "id": "9tCvZfwdo9Yu",
        "colab_type": "code",
        "colab": {
          "base_uri": "https://localhost:8080/",
          "height": 164
        },
        "outputId": "b46c24c6-fce6-4e1c-f83b-473ee004fb23"
      },
      "source": [
        "print(name + a) #cannot add string with number"
      ],
      "execution_count": null,
      "outputs": [
        {
          "output_type": "error",
          "ename": "TypeError",
          "evalue": "ignored",
          "traceback": [
            "\u001b[0;31m---------------------------------------------------------------------------\u001b[0m",
            "\u001b[0;31mTypeError\u001b[0m                                 Traceback (most recent call last)",
            "\u001b[0;32m<ipython-input-12-1fdb5ebc1d8f>\u001b[0m in \u001b[0;36m<module>\u001b[0;34m()\u001b[0m\n\u001b[0;32m----> 1\u001b[0;31m \u001b[0mprint\u001b[0m\u001b[0;34m(\u001b[0m\u001b[0mname\u001b[0m \u001b[0;34m+\u001b[0m \u001b[0ma\u001b[0m\u001b[0;34m)\u001b[0m\u001b[0;34m\u001b[0m\u001b[0;34m\u001b[0m\u001b[0m\n\u001b[0m",
            "\u001b[0;31mTypeError\u001b[0m: must be str, not int"
          ]
        }
      ]
    },
    {
      "cell_type": "code",
      "metadata": {
        "id": "kWnabujWpFeN",
        "colab_type": "code",
        "colab": {
          "base_uri": "https://localhost:8080/",
          "height": 34
        },
        "outputId": "c90d7b16-00d6-4459-999f-559f50d3faf1"
      },
      "source": [
        "print(name * a) #can multiple string with int, resulting concatenation of the string n times"
      ],
      "execution_count": null,
      "outputs": [
        {
          "output_type": "stream",
          "text": [
            "WinnWinnWinnWinn\n"
          ],
          "name": "stdout"
        }
      ]
    },
    {
      "cell_type": "markdown",
      "metadata": {
        "id": "3clC3wR6pqIM",
        "colab_type": "text"
      },
      "source": [
        "Access character & substrings"
      ]
    },
    {
      "cell_type": "code",
      "metadata": {
        "id": "3ei6O8vnpvTA",
        "colab_type": "code",
        "colab": {
          "base_uri": "https://localhost:8080/",
          "height": 102
        },
        "outputId": "15e0f1c0-fa56-4aa1-d759-3816e35fd508"
      },
      "source": [
        "print(name)\n",
        "print(name[0])\n",
        "print(name[1])\n",
        "print(name[2])\n",
        "print(name[3])"
      ],
      "execution_count": null,
      "outputs": [
        {
          "output_type": "stream",
          "text": [
            "Winn\n",
            "W\n",
            "i\n",
            "n\n",
            "n\n"
          ],
          "name": "stdout"
        }
      ]
    },
    {
      "cell_type": "code",
      "metadata": {
        "id": "s4OR_iDVKz_y",
        "colab_type": "code",
        "colab": {
          "base_uri": "https://localhost:8080/",
          "height": 68
        },
        "outputId": "26cf5d08-6b0a-4bbe-c171-a99a6dba530a"
      },
      "source": [
        "mystr = ' Welcome to Botnoi X Shopee training session. '\n",
        "print(mystr[0:5])\n",
        "print(mystr[1:8])\n",
        "print(mystr[-4:])"
      ],
      "execution_count": null,
      "outputs": [
        {
          "output_type": "stream",
          "text": [
            " Welc\n",
            "Welcome\n",
            "on. \n"
          ],
          "name": "stdout"
        }
      ]
    },
    {
      "cell_type": "code",
      "metadata": {
        "id": "xlu5epygLK7-",
        "colab_type": "code",
        "colab": {
          "base_uri": "https://localhost:8080/",
          "height": 34
        },
        "outputId": "ed078977-a0f4-482a-f705-b29b94beb47e"
      },
      "source": [
        "mystr.split()"
      ],
      "execution_count": null,
      "outputs": [
        {
          "output_type": "execute_result",
          "data": {
            "text/plain": [
              "['Welcome', 'to', 'Botnoi', 'X', 'Shopee', 'training', 'session.']"
            ]
          },
          "metadata": {
            "tags": []
          },
          "execution_count": 4
        }
      ]
    },
    {
      "cell_type": "code",
      "metadata": {
        "id": "OW5pcS1RLRun",
        "colab_type": "code",
        "colab": {
          "base_uri": "https://localhost:8080/",
          "height": 35
        },
        "outputId": "d67f2e3f-4d6e-4086-d6ca-66a626a98a79"
      },
      "source": [
        "mystr.lower()"
      ],
      "execution_count": null,
      "outputs": [
        {
          "output_type": "execute_result",
          "data": {
            "application/vnd.google.colaboratory.intrinsic": {
              "type": "string"
            },
            "text/plain": [
              "' welcome to botnoi x shopee training session. '"
            ]
          },
          "metadata": {
            "tags": []
          },
          "execution_count": 5
        }
      ]
    },
    {
      "cell_type": "code",
      "metadata": {
        "id": "7BqGnJXyLiH3",
        "colab_type": "code",
        "colab": {
          "base_uri": "https://localhost:8080/",
          "height": 35
        },
        "outputId": "7b6ff5fa-216d-480d-994b-1501a0e7bc32"
      },
      "source": [
        "mystr.strip()"
      ],
      "execution_count": null,
      "outputs": [
        {
          "output_type": "execute_result",
          "data": {
            "application/vnd.google.colaboratory.intrinsic": {
              "type": "string"
            },
            "text/plain": [
              "'Welcome to Botnoi X Shopee training session.'"
            ]
          },
          "metadata": {
            "tags": []
          },
          "execution_count": 7
        }
      ]
    },
    {
      "cell_type": "code",
      "metadata": {
        "id": "cuR4_ZJLLTR8",
        "colab_type": "code",
        "colab": {
          "base_uri": "https://localhost:8080/",
          "height": 34
        },
        "outputId": "22c974e3-e0a4-45b7-a3bf-7f0741b10bc6"
      },
      "source": [
        "mystr.split()"
      ],
      "execution_count": null,
      "outputs": [
        {
          "output_type": "execute_result",
          "data": {
            "text/plain": [
              "['Welcome', 'to', 'Botnoi', 'X', 'Shopee', 'training', 'session.']"
            ]
          },
          "metadata": {
            "tags": []
          },
          "execution_count": 8
        }
      ]
    },
    {
      "cell_type": "code",
      "metadata": {
        "id": "gDRE-Y6zLVDJ",
        "colab_type": "code",
        "colab": {
          "base_uri": "https://localhost:8080/",
          "height": 34
        },
        "outputId": "eb0bc429-655d-45de-990b-28c7b06b9f14"
      },
      "source": [
        "mystr.split('to')"
      ],
      "execution_count": null,
      "outputs": [
        {
          "output_type": "execute_result",
          "data": {
            "text/plain": [
              "[' Welcome ', ' Botnoi X Shopee training session. ']"
            ]
          },
          "metadata": {
            "tags": []
          },
          "execution_count": 9
        }
      ]
    },
    {
      "cell_type": "markdown",
      "metadata": {
        "id": "kZRXcke3qAQN",
        "colab_type": "text"
      },
      "source": [
        "**List** \n",
        "\n",
        "a container which can contain multiple variables and/or datatypes"
      ]
    },
    {
      "cell_type": "code",
      "metadata": {
        "id": "Hwann7xZqU_k",
        "colab_type": "code",
        "colab": {
          "base_uri": "https://localhost:8080/",
          "height": 34
        },
        "outputId": "02d58f95-638b-413f-e151-126260873498"
      },
      "source": [
        "[] #this is an empty list"
      ],
      "execution_count": null,
      "outputs": [
        {
          "output_type": "execute_result",
          "data": {
            "text/plain": [
              "[]"
            ]
          },
          "metadata": {
            "tags": []
          },
          "execution_count": 17
        }
      ]
    },
    {
      "cell_type": "code",
      "metadata": {
        "id": "RAZLQAU-qaIq",
        "colab_type": "code",
        "colab": {
          "base_uri": "https://localhost:8080/",
          "height": 34
        },
        "outputId": "6725f154-a0c2-4b1d-9469-9c85bd5e800a"
      },
      "source": [
        "[1,2,3,4] #list contains numbers"
      ],
      "execution_count": null,
      "outputs": [
        {
          "output_type": "execute_result",
          "data": {
            "text/plain": [
              "[1, 2, 3, 4]"
            ]
          },
          "metadata": {
            "tags": []
          },
          "execution_count": 18
        }
      ]
    },
    {
      "cell_type": "code",
      "metadata": {
        "id": "xtPVGVD9qicC",
        "colab_type": "code",
        "colab": {
          "base_uri": "https://localhost:8080/",
          "height": 34
        },
        "outputId": "9b26245f-7cd9-4157-fe12-d332af13129a"
      },
      "source": [
        "a = 4\n",
        "b = 2.0\n",
        "name = 'winn'\n",
        "[a,b,name] #contains variables"
      ],
      "execution_count": null,
      "outputs": [
        {
          "output_type": "execute_result",
          "data": {
            "text/plain": [
              "[4, 2.0, 'winn']"
            ]
          },
          "metadata": {
            "tags": []
          },
          "execution_count": 13
        }
      ]
    },
    {
      "cell_type": "markdown",
      "metadata": {
        "id": "jC1vgCBeqq78",
        "colab_type": "text"
      },
      "source": [
        "Access list"
      ]
    },
    {
      "cell_type": "code",
      "metadata": {
        "id": "kNtjzWYrqmhN",
        "colab_type": "code",
        "colab": {
          "base_uri": "https://localhost:8080/",
          "height": 85
        },
        "outputId": "74304743-bfc0-4944-ab71-d30047177bdd"
      },
      "source": [
        "mylist = [1,a,b,name]\n",
        "print(mylist[0])\n",
        "print(mylist[1])\n",
        "print(mylist[2])\n",
        "print(mylist[3])"
      ],
      "execution_count": null,
      "outputs": [
        {
          "output_type": "stream",
          "text": [
            "1\n",
            "4\n",
            "2.0\n",
            "winn\n"
          ],
          "name": "stdout"
        }
      ]
    },
    {
      "cell_type": "markdown",
      "metadata": {
        "id": "WHtKZR8jMFQi",
        "colab_type": "text"
      },
      "source": [
        "Append list"
      ]
    },
    {
      "cell_type": "code",
      "metadata": {
        "id": "6FKsL6oULrbl",
        "colab_type": "code",
        "colab": {
          "base_uri": "https://localhost:8080/",
          "height": 34
        },
        "outputId": "1c372649-59d0-4ca5-b04d-ecea071ff539"
      },
      "source": [
        "mylist.append('How are you?')\n",
        "mylist"
      ],
      "execution_count": null,
      "outputs": [
        {
          "output_type": "execute_result",
          "data": {
            "text/plain": [
              "[1, 4, 2.0, 'winn', 'How are you?', 'How are you?']"
            ]
          },
          "metadata": {
            "tags": []
          },
          "execution_count": 16
        }
      ]
    },
    {
      "cell_type": "markdown",
      "metadata": {
        "id": "MMApyTMCMJas",
        "colab_type": "text"
      },
      "source": [
        "Sum two list"
      ]
    },
    {
      "cell_type": "code",
      "metadata": {
        "id": "fARkXn8TL-as",
        "colab_type": "code",
        "colab": {
          "base_uri": "https://localhost:8080/",
          "height": 34
        },
        "outputId": "637db3bc-74b7-4fdd-eedb-dce3f0c7891e"
      },
      "source": [
        "mylist + ['a','b','c']"
      ],
      "execution_count": null,
      "outputs": [
        {
          "output_type": "execute_result",
          "data": {
            "text/plain": [
              "[1, 4, 2.0, 'winn', 'How are you?', 'How are you?', 'a', 'b', 'c']"
            ]
          },
          "metadata": {
            "tags": []
          },
          "execution_count": 17
        }
      ]
    },
    {
      "cell_type": "markdown",
      "metadata": {
        "id": "A8NZ7bYprB-E",
        "colab_type": "text"
      },
      "source": [
        "**Dictionary**\n",
        "\n",
        "A datatype that has keys and values. We can access the data by using the key."
      ]
    },
    {
      "cell_type": "code",
      "metadata": {
        "id": "4zCoYO6zrNHP",
        "colab_type": "code",
        "colab": {
          "base_uri": "https://localhost:8080/",
          "height": 34
        },
        "outputId": "5d62b100-e618-4af4-fc20-e6047d008f55"
      },
      "source": [
        "{} #empty dictionary"
      ],
      "execution_count": null,
      "outputs": [
        {
          "output_type": "execute_result",
          "data": {
            "text/plain": [
              "{}"
            ]
          },
          "metadata": {
            "tags": []
          },
          "execution_count": 21
        }
      ]
    },
    {
      "cell_type": "code",
      "metadata": {
        "id": "NzhsmdgorRNj",
        "colab_type": "code",
        "colab": {
          "base_uri": "https://localhost:8080/",
          "height": 34
        },
        "outputId": "6e7b7fc2-0c84-4190-9931-a32bab4f0c94"
      },
      "source": [
        "{'name':'Winn','nationality':'Thai','company':'Botnoi'} #a dictionary containing my information"
      ],
      "execution_count": null,
      "outputs": [
        {
          "output_type": "execute_result",
          "data": {
            "text/plain": [
              "{'company': 'Botnoi', 'name': 'Winn', 'nationality': 'Thai'}"
            ]
          },
          "metadata": {
            "tags": []
          },
          "execution_count": 22
        }
      ]
    },
    {
      "cell_type": "markdown",
      "metadata": {
        "id": "vq15S6Cfria3",
        "colab_type": "text"
      },
      "source": [
        "Use the keys to access the information."
      ]
    },
    {
      "cell_type": "code",
      "metadata": {
        "id": "P9MCvyVprq6d",
        "colab_type": "code",
        "colab": {
          "base_uri": "https://localhost:8080/",
          "height": 68
        },
        "outputId": "fddecfe0-0b60-42fe-ae50-2f0831f8524b"
      },
      "source": [
        "mydic = {'name':'Winn','nationality':'Thai','company':'Botnoi'}\n",
        "print(mydic['name'])\n",
        "print(mydic['nationality'])\n",
        "print(mydic['company'])"
      ],
      "execution_count": null,
      "outputs": [
        {
          "output_type": "stream",
          "text": [
            "Winn\n",
            "Thai\n",
            "Botnoi\n"
          ],
          "name": "stdout"
        }
      ]
    },
    {
      "cell_type": "markdown",
      "metadata": {
        "id": "PAERGzWnr-is",
        "colab_type": "text"
      },
      "source": [
        "\n",
        "\n",
        "---\n",
        "\n"
      ]
    },
    {
      "cell_type": "markdown",
      "metadata": {
        "id": "gUniTpnssEfu",
        "colab_type": "text"
      },
      "source": [
        "**Expression & Condition**"
      ]
    },
    {
      "cell_type": "markdown",
      "metadata": {
        "id": "L7JtWn8ot8Ii",
        "colab_type": "text"
      },
      "source": [
        "Expression"
      ]
    },
    {
      "cell_type": "code",
      "metadata": {
        "id": "AK6OsQ8yse4u",
        "colab_type": "code",
        "colab": {}
      },
      "source": [
        "a = 3 #assign a to 3\n",
        "b = 5 #assign b to 5\n",
        "c = [1,2,3]"
      ],
      "execution_count": null,
      "outputs": []
    },
    {
      "cell_type": "code",
      "metadata": {
        "id": "pgm2E0ScsheF",
        "colab_type": "code",
        "colab": {
          "base_uri": "https://localhost:8080/",
          "height": 68
        },
        "outputId": "5a420063-fab9-40d8-80c1-a578bcbc9f29"
      },
      "source": [
        "print(a==b)\n",
        "print(a<b)\n",
        "print(a>b)"
      ],
      "execution_count": null,
      "outputs": [
        {
          "output_type": "stream",
          "text": [
            "False\n",
            "False\n",
            "True\n"
          ],
          "name": "stdout"
        }
      ]
    },
    {
      "cell_type": "code",
      "metadata": {
        "id": "P0vuAmc_tny3",
        "colab_type": "code",
        "colab": {
          "base_uri": "https://localhost:8080/",
          "height": 85
        },
        "outputId": "82c29aa6-c3bd-4ea5-cdb5-8beafcf92659"
      },
      "source": [
        "nameList = ['winn','peter','john']\n",
        "name = 'winn'\n",
        "print(name in nameList)\n",
        "print(name not in nameList)\n",
        "print('smith' in nameList)\n",
        "print(name[0]=='w')"
      ],
      "execution_count": null,
      "outputs": [
        {
          "output_type": "stream",
          "text": [
            "True\n",
            "False\n",
            "False\n",
            "True\n"
          ],
          "name": "stdout"
        }
      ]
    },
    {
      "cell_type": "markdown",
      "metadata": {
        "id": "6JjnJNUus19q",
        "colab_type": "text"
      },
      "source": [
        "Condition (if else)"
      ]
    },
    {
      "cell_type": "code",
      "metadata": {
        "id": "74B07JYPuFgW",
        "colab_type": "code",
        "colab": {
          "base_uri": "https://localhost:8080/",
          "height": 34
        },
        "outputId": "69a0670d-473b-4149-f804-a1bc7dc3c7e1"
      },
      "source": [
        "if True:\n",
        "  print('Hello')"
      ],
      "execution_count": null,
      "outputs": [
        {
          "output_type": "stream",
          "text": [
            "Hello\n"
          ],
          "name": "stdout"
        }
      ]
    },
    {
      "cell_type": "code",
      "metadata": {
        "id": "cP0oZ6tZuKYN",
        "colab_type": "code",
        "colab": {
          "base_uri": "https://localhost:8080/",
          "height": 34
        },
        "outputId": "03be82d5-bae1-458e-de70-5a4e22361a3b"
      },
      "source": [
        "a = 2\n",
        "b = 4\n",
        "if a<b:\n",
        "  print('Hello')\n",
        "else:\n",
        "  print('Good bye')"
      ],
      "execution_count": null,
      "outputs": [
        {
          "output_type": "stream",
          "text": [
            "Hello\n"
          ],
          "name": "stdout"
        }
      ]
    },
    {
      "cell_type": "markdown",
      "metadata": {
        "id": "h0KQTeQN2Xof",
        "colab_type": "text"
      },
      "source": [
        "\n",
        "\n",
        "---\n",
        "\n"
      ]
    },
    {
      "cell_type": "markdown",
      "metadata": {
        "id": "lLJgzUn42ZF1",
        "colab_type": "text"
      },
      "source": [
        "**LOOP**\n",
        "\n",
        "We use loop to do repetitive tasks\n"
      ]
    },
    {
      "cell_type": "code",
      "metadata": {
        "id": "Feu4KPB62k0t",
        "colab_type": "code",
        "colab": {
          "base_uri": "https://localhost:8080/",
          "height": 102
        },
        "outputId": "2388caf6-04e0-4d9e-e505-36efc4c4f817"
      },
      "source": [
        "nameList = ['winn','john','mike','tony','megan']\n",
        "for name in nameList: #get name out of nameList\n",
        "\n",
        "  print('Hi,'+name)"
      ],
      "execution_count": null,
      "outputs": [
        {
          "output_type": "stream",
          "text": [
            "Hi,winn\n",
            "Hi,john\n",
            "Hi,mike\n",
            "Hi,tony\n",
            "Hi,megan\n"
          ],
          "name": "stdout"
        }
      ]
    },
    {
      "cell_type": "code",
      "metadata": {
        "id": "ykh0_5S253Z_",
        "colab_type": "code",
        "colab": {
          "base_uri": "https://localhost:8080/",
          "height": 768
        },
        "outputId": "e5f9b8b9-1e2d-405f-9e71-c6c8f2e6149f"
      },
      "source": [
        "!pip install googletrans\n",
        "from googletrans import Translator"
      ],
      "execution_count": null,
      "outputs": [
        {
          "output_type": "stream",
          "text": [
            "Collecting googletrans\n",
            "  Downloading https://files.pythonhosted.org/packages/71/3a/3b19effdd4c03958b90f40fe01c93de6d5280e03843cc5adf6956bfc9512/googletrans-3.0.0.tar.gz\n",
            "Collecting httpx==0.13.3\n",
            "\u001b[?25l  Downloading https://files.pythonhosted.org/packages/54/b4/698b284c6aed4d7c2b4fe3ba5df1fcf6093612423797e76fbb24890dd22f/httpx-0.13.3-py3-none-any.whl (55kB)\n",
            "\u001b[K     |████████████████████████████████| 61kB 2.8MB/s \n",
            "\u001b[?25hRequirement already satisfied: idna==2.* in /usr/local/lib/python3.6/dist-packages (from httpx==0.13.3->googletrans) (2.9)\n",
            "Collecting httpcore==0.9.*\n",
            "\u001b[?25l  Downloading https://files.pythonhosted.org/packages/dd/d5/e4ff9318693ac6101a2095e580908b591838c6f33df8d3ee8dd953ba96a8/httpcore-0.9.1-py3-none-any.whl (42kB)\n",
            "\u001b[K     |████████████████████████████████| 51kB 6.0MB/s \n",
            "\u001b[?25hCollecting rfc3986<2,>=1.3\n",
            "  Downloading https://files.pythonhosted.org/packages/78/be/7b8b99fd74ff5684225f50dd0e865393d2265656ef3b4ba9eaaaffe622b8/rfc3986-1.4.0-py2.py3-none-any.whl\n",
            "Collecting hstspreload\n",
            "\u001b[?25l  Downloading https://files.pythonhosted.org/packages/d5/b9/a183078ac6eef7c65ff97ee3477616504bb377a2939613af595b97cbaac3/hstspreload-2020.6.30-py3-none-any.whl (908kB)\n",
            "\u001b[K     |████████████████████████████████| 911kB 8.7MB/s \n",
            "\u001b[?25hRequirement already satisfied: chardet==3.* in /usr/local/lib/python3.6/dist-packages (from httpx==0.13.3->googletrans) (3.0.4)\n",
            "Collecting sniffio\n",
            "  Downloading https://files.pythonhosted.org/packages/b3/82/4bd4b7d9c0d1dc0fbfbc2a1e00138e7f3ab85bc239358fe9b78aa2ab586d/sniffio-1.1.0-py3-none-any.whl\n",
            "Requirement already satisfied: certifi in /usr/local/lib/python3.6/dist-packages (from httpx==0.13.3->googletrans) (2020.6.20)\n",
            "Collecting h2==3.*\n",
            "\u001b[?25l  Downloading https://files.pythonhosted.org/packages/25/de/da019bcc539eeab02f6d45836f23858ac467f584bfec7a526ef200242afe/h2-3.2.0-py2.py3-none-any.whl (65kB)\n",
            "\u001b[K     |████████████████████████████████| 71kB 7.7MB/s \n",
            "\u001b[?25hCollecting h11<0.10,>=0.8\n",
            "\u001b[?25l  Downloading https://files.pythonhosted.org/packages/5a/fd/3dad730b0f95e78aeeb742f96fa7bbecbdd56a58e405d3da440d5bfb90c6/h11-0.9.0-py2.py3-none-any.whl (53kB)\n",
            "\u001b[K     |████████████████████████████████| 61kB 7.9MB/s \n",
            "\u001b[?25hCollecting contextvars>=2.1; python_version < \"3.7\"\n",
            "  Downloading https://files.pythonhosted.org/packages/83/96/55b82d9f13763be9d672622e1b8106c85acb83edd7cc2fa5bc67cd9877e9/contextvars-2.4.tar.gz\n",
            "Collecting hpack<4,>=3.0\n",
            "  Downloading https://files.pythonhosted.org/packages/8a/cc/e53517f4a1e13f74776ca93271caef378dadec14d71c61c949d759d3db69/hpack-3.0.0-py2.py3-none-any.whl\n",
            "Collecting hyperframe<6,>=5.2.0\n",
            "  Downloading https://files.pythonhosted.org/packages/19/0c/bf88182bcb5dce3094e2f3e4fe20db28a9928cb7bd5b08024030e4b140db/hyperframe-5.2.0-py2.py3-none-any.whl\n",
            "Collecting immutables>=0.9\n",
            "\u001b[?25l  Downloading https://files.pythonhosted.org/packages/99/e0/ea6fd4697120327d26773b5a84853f897a68e33d3f9376b00a8ff96e4f63/immutables-0.14-cp36-cp36m-manylinux1_x86_64.whl (98kB)\n",
            "\u001b[K     |████████████████████████████████| 102kB 9.2MB/s \n",
            "\u001b[?25hBuilding wheels for collected packages: googletrans, contextvars\n",
            "  Building wheel for googletrans (setup.py) ... \u001b[?25l\u001b[?25hdone\n",
            "  Created wheel for googletrans: filename=googletrans-3.0.0-cp36-none-any.whl size=15736 sha256=da89975e7714aa964a504a9f88934ab176e432eb79118b45b50c6a406e56d7ed\n",
            "  Stored in directory: /root/.cache/pip/wheels/28/1a/a7/eaf4d7a3417a0c65796c547cff4deb6d79c7d14c2abd29273e\n",
            "  Building wheel for contextvars (setup.py) ... \u001b[?25l\u001b[?25hdone\n",
            "  Created wheel for contextvars: filename=contextvars-2.4-cp36-none-any.whl size=7666 sha256=10c0ced8348b8e886c8636f57499dc181601f44982cd53dc7276bbbfb4c57a04\n",
            "  Stored in directory: /root/.cache/pip/wheels/a5/7d/68/1ebae2668bda2228686e3c1cf16f2c2384cea6e9334ad5f6de\n",
            "Successfully built googletrans contextvars\n",
            "Installing collected packages: hpack, hyperframe, h2, h11, immutables, contextvars, sniffio, httpcore, rfc3986, hstspreload, httpx, googletrans\n",
            "Successfully installed contextvars-2.4 googletrans-3.0.0 h11-0.9.0 h2-3.2.0 hpack-3.0.0 hstspreload-2020.6.30 httpcore-0.9.1 httpx-0.13.3 hyperframe-5.2.0 immutables-0.14 rfc3986-1.4.0 sniffio-1.1.0\n"
          ],
          "name": "stdout"
        }
      ]
    },
    {
      "cell_type": "code",
      "metadata": {
        "id": "ZL06AC1n3CcK",
        "colab_type": "code",
        "colab": {}
      },
      "source": [
        "langcodelist = ['th','km','lo','my','vi','ms','en','id','zh-cn','zh-tw']"
      ],
      "execution_count": null,
      "outputs": []
    },
    {
      "cell_type": "code",
      "metadata": {
        "id": "jskmVDgF5-rX",
        "colab_type": "code",
        "colab": {
          "base_uri": "https://localhost:8080/",
          "height": 187
        },
        "outputId": "bcfa460b-2738-4678-bb5e-b1fc2e1ecc8c"
      },
      "source": [
        "keyword = 'I love you'\n",
        "translator = Translator()\n",
        "for langcode in langcodelist:\n",
        "  translatetext = translator.translate(keyword,langcode).text\n",
        "  print(langcode + ':' + translatetext)"
      ],
      "execution_count": null,
      "outputs": [
        {
          "output_type": "stream",
          "text": [
            "th:ผมรักคุณ\n",
            "km:ខ្ញុំ​ស្រលាញ់​អ្នក\n",
            "lo:ຂ້ອຍ​ຮັກ​ເຈົ້າ\n",
            "my:မင်းကိုချစ်တယ်\n",
            "vi:Tôi mến bạn\n",
            "ms:Saya sayang awak\n",
            "en:I love you\n",
            "id:Aku cinta kamu\n",
            "zh-cn:我爱你\n",
            "zh-tw:我愛你\n"
          ],
          "name": "stdout"
        }
      ]
    },
    {
      "cell_type": "markdown",
      "metadata": {
        "id": "Q5I8z8eJ7c1N",
        "colab_type": "text"
      },
      "source": [
        "**Function**\n",
        "\n",
        "We can create functions and reuse them at different places in the code"
      ]
    },
    {
      "cell_type": "code",
      "metadata": {
        "id": "s05IixYL7hdx",
        "colab_type": "code",
        "colab": {}
      },
      "source": [
        "def sayhi(name):\n",
        "  return 'Hello, '+name"
      ],
      "execution_count": null,
      "outputs": []
    },
    {
      "cell_type": "code",
      "metadata": {
        "id": "Du-rh28h7y_Q",
        "colab_type": "code",
        "colab": {
          "base_uri": "https://localhost:8080/",
          "height": 35
        },
        "outputId": "dbf427f7-1a0d-4346-f450-3184b4a23432"
      },
      "source": [
        "name = 'Winn'\n",
        "sayhi(name)"
      ],
      "execution_count": null,
      "outputs": [
        {
          "output_type": "execute_result",
          "data": {
            "application/vnd.google.colaboratory.intrinsic": {
              "type": "string"
            },
            "text/plain": [
              "'Hello, Winn'"
            ]
          },
          "metadata": {
            "tags": []
          },
          "execution_count": 17
        }
      ]
    },
    {
      "cell_type": "code",
      "metadata": {
        "id": "TzKoxE5H74-X",
        "colab_type": "code",
        "colab": {}
      },
      "source": [
        "def sumtwonum(a,b):\n",
        "  return a + b"
      ],
      "execution_count": null,
      "outputs": []
    },
    {
      "cell_type": "code",
      "metadata": {
        "id": "Np_HX1HH8J0y",
        "colab_type": "code",
        "colab": {
          "base_uri": "https://localhost:8080/",
          "height": 34
        },
        "outputId": "c7779b76-cd46-4c19-8387-88b1dc736faa"
      },
      "source": [
        "sumtwonum(1,2)"
      ],
      "execution_count": null,
      "outputs": [
        {
          "output_type": "execute_result",
          "data": {
            "text/plain": [
              "3"
            ]
          },
          "metadata": {
            "tags": []
          },
          "execution_count": 20
        }
      ]
    },
    {
      "cell_type": "code",
      "metadata": {
        "id": "a4GSpl1k8Oos",
        "colab_type": "code",
        "colab": {}
      },
      "source": [
        "numtoguess = 48\n",
        "def guessmynum():\n",
        "  num = int(input('Please insert your guess\\n'))\n",
        "  if num>numtoguess:\n",
        "    print('Your guess is too high.\\n')\n",
        "    guessmynum()\n",
        "  elif num<numtoguess:\n",
        "    print('Your guess is too low.\\n')\n",
        "    guessmynum()\n",
        "  else:\n",
        "    print('Correct')\n",
        "\n"
      ],
      "execution_count": null,
      "outputs": []
    },
    {
      "cell_type": "code",
      "metadata": {
        "id": "kyIHBHBq88HX",
        "colab_type": "code",
        "colab": {
          "base_uri": "https://localhost:8080/",
          "height": 204
        },
        "outputId": "672d72c5-13e1-4d00-f9dd-ec3c05a80c06"
      },
      "source": [
        "guessmynum()"
      ],
      "execution_count": null,
      "outputs": [
        {
          "output_type": "stream",
          "text": [
            "Please insert your guess\n",
            "50\n",
            "Your guess is too high.\n",
            "\n",
            "Please insert your guess\n",
            "41\n",
            "Your guess is too low.\n",
            "\n",
            "Please insert your guess\n",
            "48\n",
            "Correct\n"
          ],
          "name": "stdout"
        }
      ]
    },
    {
      "cell_type": "markdown",
      "metadata": {
        "id": "1R1CrXHG-Vck",
        "colab_type": "text"
      },
      "source": [
        "**Classes & Objects**"
      ]
    },
    {
      "cell_type": "code",
      "metadata": {
        "id": "xffomP-5-ZQt",
        "colab_type": "code",
        "colab": {}
      },
      "source": [
        "class car:\n",
        "  def __init__(self,color,brand,speed):\n",
        "    self.color = color\n",
        "    self.brand = brand\n",
        "    self.speed = speed\n",
        "    self.position = 0\n",
        "  def moveforward(self,time):\n",
        "    self.position = self.position + self.speed * time\n",
        "  def movebackward(self,time):\n",
        "    self.position = self.position - self.speed * time"
      ],
      "execution_count": null,
      "outputs": []
    },
    {
      "cell_type": "code",
      "metadata": {
        "id": "7sYXcoaj_KGp",
        "colab_type": "code",
        "colab": {
          "base_uri": "https://localhost:8080/",
          "height": 119
        },
        "outputId": "5aabab27-738a-46ec-8f24-a099cfe1e14f"
      },
      "source": [
        "winncar = car('blue','honda',60)\n",
        "print(winncar.color)\n",
        "print(winncar.brand)\n",
        "print(winncar.speed)\n",
        "print(winncar.position)\n",
        "winncar.moveforward(2)\n",
        "print(winncar.position)\n",
        "winncar.movebackward(1)\n",
        "print(winncar.position)"
      ],
      "execution_count": null,
      "outputs": [
        {
          "output_type": "stream",
          "text": [
            "blue\n",
            "honda\n",
            "60\n",
            "0\n",
            "120\n",
            "60\n"
          ],
          "name": "stdout"
        }
      ]
    },
    {
      "cell_type": "code",
      "metadata": {
        "id": "51t1gv5M_pmr",
        "colab_type": "code",
        "colab": {
          "base_uri": "https://localhost:8080/",
          "height": 119
        },
        "outputId": "755a80fc-8309-4945-c67e-c04f494c3f08"
      },
      "source": [
        "tonycar = car('black','benz',80)\n",
        "print(tonycar.color)\n",
        "print(tonycar.brand)\n",
        "print(tonycar.speed)\n",
        "print(tonycar.position)\n",
        "tonycar.moveforward(5)\n",
        "print(tonycar.position)\n",
        "tonycar.movebackward(3)\n",
        "print(tonycar.position)"
      ],
      "execution_count": null,
      "outputs": [
        {
          "output_type": "stream",
          "text": [
            "black\n",
            "benz\n",
            "80\n",
            "0\n",
            "400\n",
            "160\n"
          ],
          "name": "stdout"
        }
      ]
    },
    {
      "cell_type": "markdown",
      "metadata": {
        "id": "KtMuY8y19YIN",
        "colab_type": "text"
      },
      "source": [
        "**Library**\n",
        "\n",
        "A library is a compilation of classes, functions, written by someone else. We can simply use them."
      ]
    },
    {
      "cell_type": "code",
      "metadata": {
        "id": "2Z4_ECNz9XYa",
        "colab_type": "code",
        "colab": {
          "base_uri": "https://localhost:8080/",
          "height": 34
        },
        "outputId": "3341b9e2-7c16-4f82-e93b-b4dfe7d71054"
      },
      "source": [
        "import numpy as np\n",
        "a = [2,3,6,1,2,5,2,9,8]\n",
        "a = np.array(a)\n",
        "a"
      ],
      "execution_count": null,
      "outputs": [
        {
          "output_type": "execute_result",
          "data": {
            "text/plain": [
              "array([2, 3, 6, 1, 2, 5, 2, 9, 8])"
            ]
          },
          "metadata": {
            "tags": []
          },
          "execution_count": 31
        }
      ]
    },
    {
      "cell_type": "code",
      "metadata": {
        "id": "1e1ZTGgc94OC",
        "colab_type": "code",
        "colab": {
          "base_uri": "https://localhost:8080/",
          "height": 68
        },
        "outputId": "abcfcf48-f837-4df8-e078-88eba59838bf"
      },
      "source": [
        "print(a.mean())\n",
        "print(a.std())\n",
        "print(a.cumsum())"
      ],
      "execution_count": null,
      "outputs": [
        {
          "output_type": "stream",
          "text": [
            "4.222222222222222\n",
            "2.739739556875101\n",
            "[ 2  5 11 12 14 19 21 30 38]\n"
          ],
          "name": "stdout"
        }
      ]
    },
    {
      "cell_type": "code",
      "metadata": {
        "id": "fan17UgL96qG",
        "colab_type": "code",
        "colab": {
          "base_uri": "https://localhost:8080/",
          "height": 282
        },
        "outputId": "4f37881c-34c7-4d0c-8bf0-7c7268be762d"
      },
      "source": [
        "import pylab as py\n",
        "py.plot(a)"
      ],
      "execution_count": null,
      "outputs": [
        {
          "output_type": "execute_result",
          "data": {
            "text/plain": [
              "[<matplotlib.lines.Line2D at 0x7f58531c7d68>]"
            ]
          },
          "metadata": {
            "tags": []
          },
          "execution_count": 33
        },
        {
          "output_type": "display_data",
          "data": {
            "image/png": "[encoded data removed]",
            "text/plain": [
              "<Figure size 432x288 with 1 Axes>"
            ]
          },
          "metadata": {
            "tags": [],
            "needs_background": "light"
          }
        }
      ]
    }
  ]
}